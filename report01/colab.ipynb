{
  "nbformat": 4,
  "nbformat_minor": 0,
  "metadata": {
    "colab": {
      "name": "colab.ipynb",
      "provenance": [],
      "collapsed_sections": []
    },
    "kernelspec": {
      "name": "python3",
      "display_name": "Python 3"
    },
    "language_info": {
      "name": "python"
    }
  },
  "cells": [
    {
      "cell_type": "code",
      "metadata": {
        "id": "57kowMfixqKH"
      },
      "source": [
        "import numpy as np\n",
        "\n",
        "def gate(x1,x2,w,b):\n",
        "  return int((np.sum(w*np.array([x1,x2])) + b) > 0)\n",
        "\n",
        "def AND(x1, x2):\n",
        "  return gate(x1,x2,np.array([0.5,0.5]),-0.7)\n",
        "\n",
        "def NAND(x1, x2):\n",
        "  return gate(x1,x2,np.array([-0.5,-0.5]),0.7)\n",
        "\n",
        "def OR(x1, x2):    \n",
        "  return gate(x1,x2,np.array([0.5,0.5]),-0.2)\n",
        "\n",
        "def XOR(x1, x2): \n",
        "  return AND(NAND(x1, x2), OR(x1, x2))\n"
      ],
      "execution_count": 37,
      "outputs": []
    },
    {
      "cell_type": "code",
      "metadata": {
        "colab": {
          "base_uri": "https://localhost:8080/"
        },
        "id": "jhTsV3iy4td7",
        "outputId": "78f93c06-6afa-4cdd-bbab-3360ab3fdb25"
      },
      "source": [
        "for g in [AND,NAND,OR,XOR]:\n",
        "  print(g.__name__)\n",
        "  for xs in [(0, 0), (1, 0), (0, 1), (1, 1)]:\n",
        "      out = g(xs[0], xs[1])\n",
        "      print(str(xs) + \" -> \" + str(out))"
      ],
      "execution_count": 38,
      "outputs": [
        {
          "output_type": "stream",
          "text": [
            "AND\n",
            "(0, 0) -> 0\n",
            "(1, 0) -> 0\n",
            "(0, 1) -> 0\n",
            "(1, 1) -> 1\n",
            "NAND\n",
            "(0, 0) -> 1\n",
            "(1, 0) -> 1\n",
            "(0, 1) -> 1\n",
            "(1, 1) -> 0\n",
            "OR\n",
            "(0, 0) -> 0\n",
            "(1, 0) -> 1\n",
            "(0, 1) -> 1\n",
            "(1, 1) -> 1\n",
            "XOR\n",
            "(0, 0) -> 0\n",
            "(1, 0) -> 1\n",
            "(0, 1) -> 1\n",
            "(1, 1) -> 0\n"
          ],
          "name": "stdout"
        }
      ]
    },
    {
      "cell_type": "markdown",
      "metadata": {
        "id": "F2vZgJqX4gKx"
      },
      "source": [
        "楽しかった。重みでゲートを実装する感覚がいまだになれない。\n",
        "\n"
      ]
    }
  ]
}